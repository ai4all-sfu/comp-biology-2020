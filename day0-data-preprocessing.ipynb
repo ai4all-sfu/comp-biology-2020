{
 "cells": [
  {
   "cell_type": "markdown",
   "metadata": {},
   "source": [
    "# Data pre-processing\n",
    "\n",
    "Data Source: https://www.kaggle.com/tunguz/rxrx19a\n",
    "\n",
    "Code Author: Raquel Aoki (raoki@sfu.ca)\n",
    "\n",
    "This Jupyter Notebook will read the dataset, and make a subset to be easily used during the Week 2. "
   ]
  },
  {
   "cell_type": "code",
   "execution_count": 1,
   "metadata": {},
   "outputs": [],
   "source": [
    "import pandas as pd \n",
    "import numpy as np \n",
    "\n",
    "full_embeddings = pd.read_csv('data\\\\embeddings.csv')\n",
    "full_meta = pd.read_csv('data\\\\metadata.csv')\n"
   ]
  },
  {
   "cell_type": "code",
   "execution_count": 2,
   "metadata": {},
   "outputs": [
    {
     "name": "stdout",
     "output_type": "stream",
     "text": [
      "Shape Full Embeddings:  (305520, 1025)\n",
      "Shape Full Metadata:  (305520, 10)\n",
      "Head Full Metadata:\n",
      "           site_id       well_id cell_type experiment  plate well  site  \\\n",
      "0  HRCE-1_1_T32_1  HRCE-1_1_T32      HRCE     HRCE-1      1  T32     1   \n",
      "1  HRCE-1_1_S24_1  HRCE-1_1_S24      HRCE     HRCE-1      1  S24     1   \n",
      "2  HRCE-1_1_R08_1  HRCE-1_1_R08      HRCE     HRCE-1      1  R08     1   \n",
      "3  HRCE-1_1_Q40_1  HRCE-1_1_Q40      HRCE     HRCE-1      1  Q40     1   \n",
      "4  HRCE-1_1_T40_1  HRCE-1_1_T40      HRCE     HRCE-1      1  T40     1   \n",
      "\n",
      "  disease_condition treatment  treatment_conc  \n",
      "0              Mock       NaN             NaN  \n",
      "1              Mock       NaN             NaN  \n",
      "2              Mock       NaN             NaN  \n",
      "3              Mock       NaN             NaN  \n",
      "4              Mock       NaN             NaN  \n"
     ]
    }
   ],
   "source": [
    "print('Shape Full Embeddings: ',full_embeddings.shape)\n",
    "print('Shape Full Metadata: ',full_meta.shape)\n",
    "print('Head Full Metadata:\\n', full_meta.head())"
   ]
  },
  {
   "cell_type": "markdown",
   "metadata": {},
   "source": [
    "## Challenge\n",
    "\n",
    "The Full Embedding dataset is 3.3GB, and some students might have problems to load it. \n",
    "\n",
    "Solution: Make a subset and save it in a more manageable size. "
   ]
  },
  {
   "cell_type": "code",
   "execution_count": 3,
   "metadata": {},
   "outputs": [],
   "source": [
    "new_embeddings = full_embeddings.sample(n=15000, random_state=25)"
   ]
  },
  {
   "cell_type": "code",
   "execution_count": 4,
   "metadata": {},
   "outputs": [
    {
     "name": "stdout",
     "output_type": "stream",
     "text": [
      "Shape new Embeddings: (15000, 1025)\n"
     ]
    }
   ],
   "source": [
    "print('Shape new Embeddings:' , new_embeddings.shape)"
   ]
  },
  {
   "cell_type": "markdown",
   "metadata": {},
   "source": [
    "Next: We need to select in metadata only the embeddings present in the 'new_embeddings' subset. \n",
    "The column 'side_id' is used to make the match. "
   ]
  },
  {
   "cell_type": "code",
   "execution_count": 5,
   "metadata": {},
   "outputs": [],
   "source": [
    "new_metadata =  full_meta[full_meta['site_id'].isin(new_embeddings['site_id'])]\n"
   ]
  },
  {
   "cell_type": "code",
   "execution_count": 6,
   "metadata": {},
   "outputs": [
    {
     "name": "stdout",
     "output_type": "stream",
     "text": [
      "Shape new metadata:  (15000, 10)\n"
     ]
    }
   ],
   "source": [
    "print('Shape new metadata: ', new_metadata.shape)\n"
   ]
  },
  {
   "cell_type": "markdown",
   "metadata": {},
   "source": [
    "To reduce the size of the files, we save them in pickle format. \n",
    "Reference: https://docs.python.org/3/library/pickle.html"
   ]
  },
  {
   "cell_type": "code",
   "execution_count": 7,
   "metadata": {},
   "outputs": [],
   "source": [
    "new_embeddings.to_pickle(\"embeddings.pkl\", compression = 'xz')\n",
    "new_metadata.to_pickle(\"metadata.pkl\", compression = 'xz')\n"
   ]
  }
 ],
 "metadata": {
  "kernelspec": {
   "display_name": "Python 3",
   "language": "python",
   "name": "python3"
  },
  "language_info": {
   "codemirror_mode": {
    "name": "ipython",
    "version": 3
   },
   "file_extension": ".py",
   "mimetype": "text/x-python",
   "name": "python",
   "nbconvert_exporter": "python",
   "pygments_lexer": "ipython3",
   "version": "3.6.7"
  }
 },
 "nbformat": 4,
 "nbformat_minor": 4
}

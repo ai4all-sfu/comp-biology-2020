{
  "nbformat": 4,
  "nbformat_minor": 0,
  "metadata": {
    "colab": {
      "name": "day1_compbio.ipynb",
      "provenance": [],
      "collapsed_sections": []
    },
    "kernelspec": {
      "name": "python3",
      "display_name": "Python 3"
    }
  },
  "cells": [
    {
      "cell_type": "markdown",
      "metadata": {
        "id": "nmpxADCbBsTe",
        "colab_type": "text"
      },
      "source": [
        "# Day 1: Introduction to RxRx19 dataset\n",
        "\n",
        "Today we will be familiarizing ourselves with the dataset structure, and performing a few operations to understand it better."
      ]
    },
    {
      "cell_type": "markdown",
      "metadata": {
        "id": "bf1ri6RuCRsC",
        "colab_type": "text"
      },
      "source": [
        "## 1. Loading the datasets\n",
        "\n",
        "The first step is to clone the repository with the data. The original dataset available on Kaggle has more than 305,520 images, with total size of >400 GB. Hence, we created a subset of 16,000 images and their labels.\n",
        "\n",
        "> If you are curious to know how we created this subset, you can check [here](https://github.com/ai4all-sfu/comp-biology-2020/blob/master/day0-data-preprocessing.ipynb).\n",
        "\n"
      ]
    },
    {
      "cell_type": "code",
      "metadata": {
        "id": "LAjxcgBHB8Gt",
        "colab_type": "code",
        "colab": {
          "base_uri": "https://localhost:8080/",
          "height": 134
        },
        "outputId": "4be53d5f-897b-4d19-8507-2203345cfbed"
      },
      "source": [
        "! git clone https://github.com/ai4all-sfu/comp-biology-2020.git"
      ],
      "execution_count": 1,
      "outputs": [
        {
          "output_type": "stream",
          "text": [
            "Cloning into 'comp-biology-2020'...\n",
            "remote: Enumerating objects: 122, done.\u001b[K\n",
            "remote: Counting objects: 100% (122/122), done.\u001b[K\n",
            "remote: Compressing objects: 100% (98/98), done.\u001b[K\n",
            "remote: Total 154 (delta 57), reused 81 (delta 24), pack-reused 32\u001b[K\n",
            "Receiving objects: 100% (154/154), 245.05 MiB | 44.56 MiB/s, done.\n",
            "Resolving deltas: 100% (64/64), done.\n"
          ],
          "name": "stdout"
        }
      ]
    },
    {
      "cell_type": "markdown",
      "metadata": {
        "id": "7eigUiDfpmvB",
        "colab_type": "text"
      },
      "source": [
        "To check if the files are available, we use the code below. We should see two folders: 'sample_data' and 'comp-biology-2020'."
      ]
    },
    {
      "cell_type": "code",
      "metadata": {
        "id": "TMno55AqpoxM",
        "colab_type": "code",
        "colab": {
          "base_uri": "https://localhost:8080/",
          "height": 34
        },
        "outputId": "a9b4a054-b62e-4683-fa55-4fbcbd959f5a"
      },
      "source": [
        "!ls"
      ],
      "execution_count": null,
      "outputs": [
        {
          "output_type": "stream",
          "text": [
            "comp-biology-2020  sample_data\n"
          ],
          "name": "stdout"
        }
      ]
    },
    {
      "cell_type": "markdown",
      "metadata": {
        "id": "xtSPOPNrpvLQ",
        "colab_type": "text"
      },
      "source": [
        "Let us take a look at the structure of the dataset once again.\n",
        "\n",
        "![alt text](https://drive.google.com/uc?id=1K8bj6FqO9mbz1hdbxK969B92PQvFxgdI)\n",
        "\n",
        "RxRx19-images.zip consists of the image dataset. As discussed on the slides, two types of cells are being considered: HRCE and Vero cells. Each folder consists of cell images taken from 26 Plates. Each plate has ~26,000 images. Each cell site is passed through five channels, so each channel has ~5000 images. \n",
        "\n",
        "Let us take a look at the metadata and embeddings file. To reduce the size of the files, we saved them in pickle format. Let's unpickle them now.\n",
        "\n"
      ]
    },
    {
      "cell_type": "code",
      "metadata": {
        "id": "E7PeuM7HwpN6",
        "colab_type": "code",
        "colab": {}
      },
      "source": [
        "import pandas as pd\n",
        "import pickle\n",
        "\n",
        "#pickle is used to serialize a python object structure into a byte stream; basically to handle it as a file with its size compressed.\n",
        "embeddings = pd.read_pickle('comp-biology-2020/embeddings.pkl', compression = 'xz')\n",
        "metadata = pd.read_pickle('comp-biology-2020/metadata.pkl', compression = 'xz')\n",
        "\n",
        "print(embeddings)\n",
        "\n",
        "#setting the index of column 'site_id' right\n",
        "embeddings.set_index('site_id', inplace=True)\n",
        "print(\"\\nAfter setting index\\n\",embeddings)\n",
        "#When inplace = True , the data is modified in place, which means it will return nothing and the dataframe is now updated. When inplace = False , which is the default, then the operation is performed and it returns a copy of the object. You then need to save it to something"
      ],
      "execution_count": null,
      "outputs": []
    },
    {
      "cell_type": "markdown",
      "metadata": {
        "id": "p0OsZ67_w17Y",
        "colab_type": "text"
      },
      "source": [
        "Let us print the head of metadata.pkl so that we can understand what it contains."
      ]
    },
    {
      "cell_type": "code",
      "metadata": {
        "id": "wZnQHsraw_Dj",
        "colab_type": "code",
        "colab": {}
      },
      "source": [
        "metadata.head()"
      ],
      "execution_count": null,
      "outputs": []
    },
    {
      "cell_type": "markdown",
      "metadata": {
        "id": "ZY4W7QsWxDWK",
        "colab_type": "text"
      },
      "source": [
        "## 2. Understanding the Data\n",
        "\n",
        "* 'site_id': it refers to the cell site under consideration. Every cell site has a unique site_id. As we discussed, every cell is analyzed under 4 sites, and each site is analyzed under 5 different channels. The format of site_id is as follows: 'experiment_plate_well_site'. So each of these will have an image each for the five different channels. Recall the comparison chart between them from the slides. That image is given below for your reference.\n",
        "\n",
        "![alt text](https://drive.google.com/uc?id=1MhREWlcUghzmwiMMVz8GXU_p6zWZYonu)\n",
        "\n",
        "* 'disease_condition': it refers to whether the cell is infected with the SARS-CoV-2 virus or not. In the original 'metadata.csv' there were three disease conditions: Active SARS-CoV-2 (the cell has been infected with the virus), UV Inactivated SARS-CoV-2, and Mock (mock preparations of SARS-CoV-2 on cells). We combined the disease conditions 'UV Inactivated SARS-CoV-2' and 'Mock' into one class: 'Inactive' (because they are similar), so that we can consider two distinct classes in our classification task: 'Active' and 'Inactive'.\n",
        "\n",
        "* 'treatment': it refers to the drug that is used to treat the cell from the virus, 'treatment_conc' refers to the amount of concentration that the drug is used under. For an 'inactive' cell site, the value under 'treatment' and 'treatment_conc' will be NaN. \n",
        "\n",
        "Let us print embeddings.pkl and take a look at its head."
      ]
    },
    {
      "cell_type": "code",
      "metadata": {
        "id": "SE43CTdUyTW6",
        "colab_type": "code",
        "colab": {}
      },
      "source": [
        "embeddings.head()"
      ],
      "execution_count": null,
      "outputs": []
    },
    {
      "cell_type": "markdown",
      "metadata": {
        "id": "v3swyZwxyYki",
        "colab_type": "text"
      },
      "source": [
        "In the above result, for every site_id we can observe 1024 feature values. These are lower-dimensional feature vectors (embeddings) for the image that provides some indication of what the image includes.\n",
        "\n",
        "In our subset we have 16,000 images in total, chosen from all the four cell subfolders (HRCE-1, HRCE-2, Vero-2, and Vero-2). Each image is of dimensions 1024 x 1024 x 1. They are grayscale images. We will not be directly handling the images in our project. Instead, we will be using the embeddings.pkl file. \n",
        "\n",
        "Let us print the shape of metadata.pkl and embeddings.pkl."
      ]
    },
    {
      "cell_type": "code",
      "metadata": {
        "id": "bKaaMt4k0uay",
        "colab_type": "code",
        "colab": {}
      },
      "source": [
        "print(\"Metadata : \",metadata.shape)\n",
        "print(\"Embeddings : \",embeddings.shape)"
      ],
      "execution_count": null,
      "outputs": []
    },
    {
      "cell_type": "markdown",
      "metadata": {
        "id": "P3SlLNvi02mw",
        "colab_type": "text"
      },
      "source": [
        "As we can see above, 'metadata' has 16,000 rows for the images and 10 columns for the metadata values for each image. 'embeddings' has 16,000 rows too with 1024 columns denoting 1024 feature values for each image.\n",
        "\n",
        "Let us join 'metadata' and 'embeddings' to understand how they correlate better."
      ]
    },
    {
      "cell_type": "code",
      "metadata": {
        "id": "g9tf90tI1a6V",
        "colab_type": "code",
        "colab": {
          "base_uri": "https://localhost:8080/",
          "height": 328
        },
        "outputId": "ae39fe4b-5f9a-452f-88fd-8479a24c9e19"
      },
      "source": [
        "merged = pd.merge(embeddings, metadata, on=['site_id'], how='inner')\n",
        "merged.head()"
      ],
      "execution_count": 14,
      "outputs": [
        {
          "output_type": "execute_result",
          "data": {
            "text/html": [
              "<div>\n",
              "<style scoped>\n",
              "    .dataframe tbody tr th:only-of-type {\n",
              "        vertical-align: middle;\n",
              "    }\n",
              "\n",
              "    .dataframe tbody tr th {\n",
              "        vertical-align: top;\n",
              "    }\n",
              "\n",
              "    .dataframe thead th {\n",
              "        text-align: right;\n",
              "    }\n",
              "</style>\n",
              "<table border=\"1\" class=\"dataframe\">\n",
              "  <thead>\n",
              "    <tr style=\"text-align: right;\">\n",
              "      <th></th>\n",
              "      <th>site_id</th>\n",
              "      <th>feature_0</th>\n",
              "      <th>feature_1</th>\n",
              "      <th>feature_2</th>\n",
              "      <th>feature_3</th>\n",
              "      <th>feature_4</th>\n",
              "      <th>feature_5</th>\n",
              "      <th>feature_6</th>\n",
              "      <th>feature_7</th>\n",
              "      <th>feature_8</th>\n",
              "      <th>feature_9</th>\n",
              "      <th>feature_10</th>\n",
              "      <th>feature_11</th>\n",
              "      <th>feature_12</th>\n",
              "      <th>feature_13</th>\n",
              "      <th>feature_14</th>\n",
              "      <th>feature_15</th>\n",
              "      <th>feature_16</th>\n",
              "      <th>feature_17</th>\n",
              "      <th>feature_18</th>\n",
              "      <th>feature_19</th>\n",
              "      <th>feature_20</th>\n",
              "      <th>feature_21</th>\n",
              "      <th>feature_22</th>\n",
              "      <th>feature_23</th>\n",
              "      <th>feature_24</th>\n",
              "      <th>feature_25</th>\n",
              "      <th>feature_26</th>\n",
              "      <th>feature_27</th>\n",
              "      <th>feature_28</th>\n",
              "      <th>feature_29</th>\n",
              "      <th>feature_30</th>\n",
              "      <th>feature_31</th>\n",
              "      <th>feature_32</th>\n",
              "      <th>feature_33</th>\n",
              "      <th>feature_34</th>\n",
              "      <th>feature_35</th>\n",
              "      <th>feature_36</th>\n",
              "      <th>feature_37</th>\n",
              "      <th>feature_38</th>\n",
              "      <th>...</th>\n",
              "      <th>feature_993</th>\n",
              "      <th>feature_994</th>\n",
              "      <th>feature_995</th>\n",
              "      <th>feature_996</th>\n",
              "      <th>feature_997</th>\n",
              "      <th>feature_998</th>\n",
              "      <th>feature_999</th>\n",
              "      <th>feature_1000</th>\n",
              "      <th>feature_1001</th>\n",
              "      <th>feature_1002</th>\n",
              "      <th>feature_1003</th>\n",
              "      <th>feature_1004</th>\n",
              "      <th>feature_1005</th>\n",
              "      <th>feature_1006</th>\n",
              "      <th>feature_1007</th>\n",
              "      <th>feature_1008</th>\n",
              "      <th>feature_1009</th>\n",
              "      <th>feature_1010</th>\n",
              "      <th>feature_1011</th>\n",
              "      <th>feature_1012</th>\n",
              "      <th>feature_1013</th>\n",
              "      <th>feature_1014</th>\n",
              "      <th>feature_1015</th>\n",
              "      <th>feature_1016</th>\n",
              "      <th>feature_1017</th>\n",
              "      <th>feature_1018</th>\n",
              "      <th>feature_1019</th>\n",
              "      <th>feature_1020</th>\n",
              "      <th>feature_1021</th>\n",
              "      <th>feature_1022</th>\n",
              "      <th>feature_1023</th>\n",
              "      <th>well_id</th>\n",
              "      <th>cell_type</th>\n",
              "      <th>experiment</th>\n",
              "      <th>plate</th>\n",
              "      <th>well</th>\n",
              "      <th>site</th>\n",
              "      <th>disease_condition</th>\n",
              "      <th>treatment</th>\n",
              "      <th>treatment_conc</th>\n",
              "    </tr>\n",
              "  </thead>\n",
              "  <tbody>\n",
              "    <tr>\n",
              "      <th>0</th>\n",
              "      <td>HRCE-1_10_AA08_1</td>\n",
              "      <td>2.297975</td>\n",
              "      <td>0.022587</td>\n",
              "      <td>0.195894</td>\n",
              "      <td>0.014781</td>\n",
              "      <td>-1.100471</td>\n",
              "      <td>0.098462</td>\n",
              "      <td>0.242965</td>\n",
              "      <td>0.199119</td>\n",
              "      <td>-0.567304</td>\n",
              "      <td>-0.227210</td>\n",
              "      <td>-2.230506</td>\n",
              "      <td>-0.949541</td>\n",
              "      <td>-0.047310</td>\n",
              "      <td>0.533605</td>\n",
              "      <td>-0.290319</td>\n",
              "      <td>-1.508357</td>\n",
              "      <td>0.161617</td>\n",
              "      <td>0.380366</td>\n",
              "      <td>0.146494</td>\n",
              "      <td>-0.108530</td>\n",
              "      <td>-0.873874</td>\n",
              "      <td>0.056584</td>\n",
              "      <td>0.491351</td>\n",
              "      <td>0.080825</td>\n",
              "      <td>-1.321582</td>\n",
              "      <td>0.298009</td>\n",
              "      <td>0.190170</td>\n",
              "      <td>-0.864164</td>\n",
              "      <td>0.351424</td>\n",
              "      <td>0.536975</td>\n",
              "      <td>1.282918</td>\n",
              "      <td>-0.110490</td>\n",
              "      <td>-1.274246</td>\n",
              "      <td>0.943124</td>\n",
              "      <td>-1.541825</td>\n",
              "      <td>0.065526</td>\n",
              "      <td>-1.234762</td>\n",
              "      <td>0.295345</td>\n",
              "      <td>-1.824088</td>\n",
              "      <td>...</td>\n",
              "      <td>0.315934</td>\n",
              "      <td>-0.388910</td>\n",
              "      <td>-0.073659</td>\n",
              "      <td>0.390859</td>\n",
              "      <td>0.923492</td>\n",
              "      <td>0.642634</td>\n",
              "      <td>0.143817</td>\n",
              "      <td>0.619918</td>\n",
              "      <td>0.375651</td>\n",
              "      <td>0.347446</td>\n",
              "      <td>-0.236212</td>\n",
              "      <td>1.128898</td>\n",
              "      <td>0.012419</td>\n",
              "      <td>-1.073843</td>\n",
              "      <td>-0.257170</td>\n",
              "      <td>-0.714517</td>\n",
              "      <td>0.858910</td>\n",
              "      <td>0.012951</td>\n",
              "      <td>-0.503524</td>\n",
              "      <td>-1.609319</td>\n",
              "      <td>1.182596</td>\n",
              "      <td>0.586100</td>\n",
              "      <td>0.781158</td>\n",
              "      <td>-1.187773</td>\n",
              "      <td>-1.368313</td>\n",
              "      <td>-1.659620</td>\n",
              "      <td>-0.020060</td>\n",
              "      <td>-0.498513</td>\n",
              "      <td>0.349791</td>\n",
              "      <td>-0.286453</td>\n",
              "      <td>-1.424416</td>\n",
              "      <td>HRCE-1_10_AA08</td>\n",
              "      <td>HRCE</td>\n",
              "      <td>HRCE-1</td>\n",
              "      <td>10</td>\n",
              "      <td>AA08</td>\n",
              "      <td>1</td>\n",
              "      <td>inactive</td>\n",
              "      <td>NaN</td>\n",
              "      <td>NaN</td>\n",
              "    </tr>\n",
              "    <tr>\n",
              "      <th>1</th>\n",
              "      <td>HRCE-1_10_AA08_2</td>\n",
              "      <td>2.023117</td>\n",
              "      <td>0.055359</td>\n",
              "      <td>0.032669</td>\n",
              "      <td>-0.427921</td>\n",
              "      <td>-1.477027</td>\n",
              "      <td>0.555283</td>\n",
              "      <td>0.125149</td>\n",
              "      <td>0.024121</td>\n",
              "      <td>-0.310992</td>\n",
              "      <td>-0.035899</td>\n",
              "      <td>-2.317528</td>\n",
              "      <td>-0.571142</td>\n",
              "      <td>-0.190510</td>\n",
              "      <td>1.388795</td>\n",
              "      <td>-0.545442</td>\n",
              "      <td>-1.311690</td>\n",
              "      <td>0.067700</td>\n",
              "      <td>0.051449</td>\n",
              "      <td>0.281658</td>\n",
              "      <td>0.190968</td>\n",
              "      <td>-0.541562</td>\n",
              "      <td>0.122109</td>\n",
              "      <td>0.277549</td>\n",
              "      <td>-0.053468</td>\n",
              "      <td>-1.983142</td>\n",
              "      <td>0.453062</td>\n",
              "      <td>0.017778</td>\n",
              "      <td>-1.351487</td>\n",
              "      <td>0.600766</td>\n",
              "      <td>1.270639</td>\n",
              "      <td>1.074047</td>\n",
              "      <td>-0.062500</td>\n",
              "      <td>-1.360750</td>\n",
              "      <td>0.680048</td>\n",
              "      <td>-1.492564</td>\n",
              "      <td>0.104654</td>\n",
              "      <td>-1.461042</td>\n",
              "      <td>0.506609</td>\n",
              "      <td>-1.586523</td>\n",
              "      <td>...</td>\n",
              "      <td>0.370420</td>\n",
              "      <td>-0.908580</td>\n",
              "      <td>-0.119487</td>\n",
              "      <td>0.233618</td>\n",
              "      <td>0.823882</td>\n",
              "      <td>0.551085</td>\n",
              "      <td>-0.014573</td>\n",
              "      <td>1.159965</td>\n",
              "      <td>0.614649</td>\n",
              "      <td>0.434470</td>\n",
              "      <td>0.093707</td>\n",
              "      <td>1.066292</td>\n",
              "      <td>0.126574</td>\n",
              "      <td>-1.049656</td>\n",
              "      <td>-0.243583</td>\n",
              "      <td>-0.585675</td>\n",
              "      <td>0.663529</td>\n",
              "      <td>-0.127107</td>\n",
              "      <td>0.177727</td>\n",
              "      <td>-1.868272</td>\n",
              "      <td>1.141989</td>\n",
              "      <td>0.857226</td>\n",
              "      <td>0.687854</td>\n",
              "      <td>-1.667390</td>\n",
              "      <td>-1.059504</td>\n",
              "      <td>-1.597720</td>\n",
              "      <td>-0.335833</td>\n",
              "      <td>-0.643573</td>\n",
              "      <td>0.253038</td>\n",
              "      <td>0.145723</td>\n",
              "      <td>-1.794530</td>\n",
              "      <td>HRCE-1_10_AA08</td>\n",
              "      <td>HRCE</td>\n",
              "      <td>HRCE-1</td>\n",
              "      <td>10</td>\n",
              "      <td>AA08</td>\n",
              "      <td>2</td>\n",
              "      <td>inactive</td>\n",
              "      <td>NaN</td>\n",
              "      <td>NaN</td>\n",
              "    </tr>\n",
              "    <tr>\n",
              "      <th>2</th>\n",
              "      <td>HRCE-1_10_AA10_4</td>\n",
              "      <td>2.725714</td>\n",
              "      <td>0.097124</td>\n",
              "      <td>-0.251666</td>\n",
              "      <td>-0.245772</td>\n",
              "      <td>-0.611061</td>\n",
              "      <td>0.599592</td>\n",
              "      <td>0.098196</td>\n",
              "      <td>-0.359271</td>\n",
              "      <td>0.068162</td>\n",
              "      <td>-0.497672</td>\n",
              "      <td>-3.052315</td>\n",
              "      <td>0.072557</td>\n",
              "      <td>-0.220570</td>\n",
              "      <td>1.304541</td>\n",
              "      <td>-0.715440</td>\n",
              "      <td>-1.105000</td>\n",
              "      <td>-0.044301</td>\n",
              "      <td>-0.332337</td>\n",
              "      <td>0.173031</td>\n",
              "      <td>-0.191583</td>\n",
              "      <td>-0.540964</td>\n",
              "      <td>0.216181</td>\n",
              "      <td>0.587202</td>\n",
              "      <td>0.116111</td>\n",
              "      <td>-2.598186</td>\n",
              "      <td>0.853636</td>\n",
              "      <td>0.094363</td>\n",
              "      <td>-1.360084</td>\n",
              "      <td>0.333956</td>\n",
              "      <td>1.175048</td>\n",
              "      <td>0.694695</td>\n",
              "      <td>0.102681</td>\n",
              "      <td>-1.562893</td>\n",
              "      <td>0.513190</td>\n",
              "      <td>-1.809038</td>\n",
              "      <td>-0.241688</td>\n",
              "      <td>-1.753975</td>\n",
              "      <td>0.535202</td>\n",
              "      <td>-0.929908</td>\n",
              "      <td>...</td>\n",
              "      <td>-0.094190</td>\n",
              "      <td>-0.657681</td>\n",
              "      <td>-0.598234</td>\n",
              "      <td>0.280622</td>\n",
              "      <td>0.760488</td>\n",
              "      <td>0.412119</td>\n",
              "      <td>-0.066644</td>\n",
              "      <td>0.968393</td>\n",
              "      <td>0.613237</td>\n",
              "      <td>0.695272</td>\n",
              "      <td>0.209646</td>\n",
              "      <td>0.979274</td>\n",
              "      <td>0.368458</td>\n",
              "      <td>-0.925032</td>\n",
              "      <td>-0.176314</td>\n",
              "      <td>-0.899352</td>\n",
              "      <td>1.150092</td>\n",
              "      <td>0.490795</td>\n",
              "      <td>0.335611</td>\n",
              "      <td>-1.748789</td>\n",
              "      <td>1.015509</td>\n",
              "      <td>0.750727</td>\n",
              "      <td>0.885180</td>\n",
              "      <td>-1.421534</td>\n",
              "      <td>-1.284419</td>\n",
              "      <td>-1.417082</td>\n",
              "      <td>-0.065161</td>\n",
              "      <td>-0.390283</td>\n",
              "      <td>0.362758</td>\n",
              "      <td>0.033494</td>\n",
              "      <td>-1.130605</td>\n",
              "      <td>HRCE-1_10_AA10</td>\n",
              "      <td>HRCE</td>\n",
              "      <td>HRCE-1</td>\n",
              "      <td>10</td>\n",
              "      <td>AA10</td>\n",
              "      <td>4</td>\n",
              "      <td>active</td>\n",
              "      <td>Diaveridine</td>\n",
              "      <td>3.0</td>\n",
              "    </tr>\n",
              "    <tr>\n",
              "      <th>3</th>\n",
              "      <td>HRCE-1_10_AA16_1</td>\n",
              "      <td>2.525933</td>\n",
              "      <td>-0.161300</td>\n",
              "      <td>-0.485300</td>\n",
              "      <td>-0.169907</td>\n",
              "      <td>-0.828530</td>\n",
              "      <td>0.470630</td>\n",
              "      <td>0.684849</td>\n",
              "      <td>0.286412</td>\n",
              "      <td>-0.179563</td>\n",
              "      <td>-0.338007</td>\n",
              "      <td>-2.729603</td>\n",
              "      <td>-0.138102</td>\n",
              "      <td>-0.174999</td>\n",
              "      <td>0.560270</td>\n",
              "      <td>-0.890268</td>\n",
              "      <td>-1.483728</td>\n",
              "      <td>-0.084988</td>\n",
              "      <td>0.487842</td>\n",
              "      <td>0.466161</td>\n",
              "      <td>-0.412856</td>\n",
              "      <td>-0.633339</td>\n",
              "      <td>0.049574</td>\n",
              "      <td>0.873493</td>\n",
              "      <td>0.410658</td>\n",
              "      <td>-1.876541</td>\n",
              "      <td>0.806653</td>\n",
              "      <td>0.078848</td>\n",
              "      <td>-0.813504</td>\n",
              "      <td>0.353455</td>\n",
              "      <td>0.850163</td>\n",
              "      <td>0.900728</td>\n",
              "      <td>0.000268</td>\n",
              "      <td>-1.661532</td>\n",
              "      <td>0.586512</td>\n",
              "      <td>-1.927521</td>\n",
              "      <td>0.127292</td>\n",
              "      <td>-1.324757</td>\n",
              "      <td>0.346453</td>\n",
              "      <td>-1.238239</td>\n",
              "      <td>...</td>\n",
              "      <td>-0.065290</td>\n",
              "      <td>-0.360290</td>\n",
              "      <td>-0.072770</td>\n",
              "      <td>0.371843</td>\n",
              "      <td>0.597796</td>\n",
              "      <td>0.552014</td>\n",
              "      <td>0.200062</td>\n",
              "      <td>0.899955</td>\n",
              "      <td>0.576298</td>\n",
              "      <td>0.510481</td>\n",
              "      <td>-0.333821</td>\n",
              "      <td>1.069862</td>\n",
              "      <td>-0.011162</td>\n",
              "      <td>-1.220588</td>\n",
              "      <td>-0.333700</td>\n",
              "      <td>-0.563140</td>\n",
              "      <td>0.532201</td>\n",
              "      <td>-0.228118</td>\n",
              "      <td>-0.118126</td>\n",
              "      <td>-1.534507</td>\n",
              "      <td>0.994589</td>\n",
              "      <td>0.959356</td>\n",
              "      <td>0.722655</td>\n",
              "      <td>-1.339488</td>\n",
              "      <td>-1.445201</td>\n",
              "      <td>-1.371725</td>\n",
              "      <td>0.047971</td>\n",
              "      <td>-0.187304</td>\n",
              "      <td>0.134790</td>\n",
              "      <td>-0.127639</td>\n",
              "      <td>-1.530562</td>\n",
              "      <td>HRCE-1_10_AA16</td>\n",
              "      <td>HRCE</td>\n",
              "      <td>HRCE-1</td>\n",
              "      <td>10</td>\n",
              "      <td>AA16</td>\n",
              "      <td>1</td>\n",
              "      <td>inactive</td>\n",
              "      <td>NaN</td>\n",
              "      <td>NaN</td>\n",
              "    </tr>\n",
              "    <tr>\n",
              "      <th>4</th>\n",
              "      <td>HRCE-1_10_AA16_2</td>\n",
              "      <td>2.462103</td>\n",
              "      <td>-0.291629</td>\n",
              "      <td>-0.195823</td>\n",
              "      <td>-0.378053</td>\n",
              "      <td>-1.411975</td>\n",
              "      <td>0.364855</td>\n",
              "      <td>0.387182</td>\n",
              "      <td>0.188353</td>\n",
              "      <td>-0.026572</td>\n",
              "      <td>-0.068276</td>\n",
              "      <td>-2.520254</td>\n",
              "      <td>-0.243711</td>\n",
              "      <td>-0.460802</td>\n",
              "      <td>1.133239</td>\n",
              "      <td>-0.392023</td>\n",
              "      <td>-1.470699</td>\n",
              "      <td>-0.189606</td>\n",
              "      <td>0.244859</td>\n",
              "      <td>0.286131</td>\n",
              "      <td>0.006713</td>\n",
              "      <td>-0.723274</td>\n",
              "      <td>0.089608</td>\n",
              "      <td>0.708545</td>\n",
              "      <td>0.045399</td>\n",
              "      <td>-2.019853</td>\n",
              "      <td>0.538289</td>\n",
              "      <td>0.257584</td>\n",
              "      <td>-1.144065</td>\n",
              "      <td>0.287693</td>\n",
              "      <td>0.985104</td>\n",
              "      <td>1.059021</td>\n",
              "      <td>0.336060</td>\n",
              "      <td>-1.666125</td>\n",
              "      <td>0.500787</td>\n",
              "      <td>-1.704842</td>\n",
              "      <td>0.080121</td>\n",
              "      <td>-1.213889</td>\n",
              "      <td>0.262062</td>\n",
              "      <td>-1.460123</td>\n",
              "      <td>...</td>\n",
              "      <td>-0.187341</td>\n",
              "      <td>-0.609030</td>\n",
              "      <td>0.039881</td>\n",
              "      <td>0.516404</td>\n",
              "      <td>0.428240</td>\n",
              "      <td>0.602187</td>\n",
              "      <td>0.096727</td>\n",
              "      <td>0.767134</td>\n",
              "      <td>0.640391</td>\n",
              "      <td>0.614040</td>\n",
              "      <td>-0.015704</td>\n",
              "      <td>1.013634</td>\n",
              "      <td>0.294348</td>\n",
              "      <td>-1.084964</td>\n",
              "      <td>-0.765312</td>\n",
              "      <td>-0.753406</td>\n",
              "      <td>0.799354</td>\n",
              "      <td>-0.100989</td>\n",
              "      <td>0.249416</td>\n",
              "      <td>-1.934244</td>\n",
              "      <td>0.905018</td>\n",
              "      <td>1.045138</td>\n",
              "      <td>0.811873</td>\n",
              "      <td>-1.166252</td>\n",
              "      <td>-1.346281</td>\n",
              "      <td>-1.378394</td>\n",
              "      <td>-0.137683</td>\n",
              "      <td>-0.359367</td>\n",
              "      <td>0.263165</td>\n",
              "      <td>-0.313509</td>\n",
              "      <td>-1.556824</td>\n",
              "      <td>HRCE-1_10_AA16</td>\n",
              "      <td>HRCE</td>\n",
              "      <td>HRCE-1</td>\n",
              "      <td>10</td>\n",
              "      <td>AA16</td>\n",
              "      <td>2</td>\n",
              "      <td>inactive</td>\n",
              "      <td>NaN</td>\n",
              "      <td>NaN</td>\n",
              "    </tr>\n",
              "  </tbody>\n",
              "</table>\n",
              "<p>5 rows × 1034 columns</p>\n",
              "</div>"
            ],
            "text/plain": [
              "            site_id  feature_0  ...    treatment  treatment_conc\n",
              "0  HRCE-1_10_AA08_1   2.297975  ...          NaN             NaN\n",
              "1  HRCE-1_10_AA08_2   2.023117  ...          NaN             NaN\n",
              "2  HRCE-1_10_AA10_4   2.725714  ...  Diaveridine             3.0\n",
              "3  HRCE-1_10_AA16_1   2.525933  ...          NaN             NaN\n",
              "4  HRCE-1_10_AA16_2   2.462103  ...          NaN             NaN\n",
              "\n",
              "[5 rows x 1034 columns]"
            ]
          },
          "metadata": {
            "tags": []
          },
          "execution_count": 14
        }
      ]
    },
    {
      "cell_type": "markdown",
      "metadata": {
        "id": "c3RWv88X1vvQ",
        "colab_type": "text"
      },
      "source": [
        "Let us pick out the first row and take a clear look at the information that we get about each cell site."
      ]
    },
    {
      "cell_type": "code",
      "metadata": {
        "id": "Dll7C5Tj1yYm",
        "colab_type": "code",
        "colab": {}
      },
      "source": [
        "merged.iloc[0,:] #picking out the first row"
      ],
      "execution_count": null,
      "outputs": []
    },
    {
      "cell_type": "markdown",
      "metadata": {
        "id": "ZKLStFK92Jm2",
        "colab_type": "text"
      },
      "source": [
        "We will be using the merged dataframe in all of our exercises today. Let's eliminate all the other column values from 'merged' and just have our 'feature embeddings' for each image and the corresponding 'disease_condition'."
      ]
    },
    {
      "cell_type": "code",
      "metadata": {
        "id": "1SaWQS2y3eDa",
        "colab_type": "code",
        "colab": {}
      },
      "source": [
        "feat_disease = merged.iloc[:, list(range(1025))+ [-3]] #picking out all the rows, and first 1025 columns(from site_id to feature_1023) and third last column(disease_condition denoted by -3) when dataframe is visualized as (row,col)\n",
        "feat_disease.head()"
      ],
      "execution_count": null,
      "outputs": []
    },
    {
      "cell_type": "markdown",
      "metadata": {
        "id": "tFLmB1kK3ejS",
        "colab_type": "text"
      },
      "source": [
        "If you want to learn more about this dataset, explore the following links: \n",
        "* RxRx19: The First Morphological Imaging Dataset on SARS-CoV-2 Virus ([link](https://www.rxrx.ai/rxrx19) and [github](https://gist.github.com/bmabey/ae215f5c154cbc5c3b7e0a519e3d403b))\n",
        "* RxRx19a COVID-19 Image Embeddings ([link](https://www.kaggle.com/tunguz/rxrx19a))\n",
        "\n",
        "\n",
        "Now, we are going to understand the dataset by plotting graphs to analyze the relationships between different variables in the metadata and embeddings. Then, given an image, we are going to create feature embeddings using basic Computer Vision techniques.\n",
        "\n",
        "\n",
        "On Day 2, we are going to reduce the dimension of our 'embeddings' dataset learn about several factor models, and how to scale the dataset.\n",
        "And on day 3, we will be using 'embeddings' and parsing the values of  'disease_condition' for each of those embeddings and appending them to a labels list. We will train our model using this, and evaluate it against our test dataset. Our result will be a predicted 'disease_condition' label for a new cell image from the test dataset."
      ]
    },
    {
      "cell_type": "markdown",
      "metadata": {
        "id": "BR_IpbnITY5d",
        "colab_type": "text"
      },
      "source": [
        "Let us plot the frequency count of disease condition 'active' in the 'feat_disease' dataframe. We use the in-built plot function in pandas for this.The function 'value_counts()' below is to count the number of occurences of each category."
      ]
    },
    {
      "cell_type": "code",
      "metadata": {
        "id": "3SLs-CwPT7-V",
        "colab_type": "code",
        "colab": {}
      },
      "source": [
        "feat_disease['disease_condition'].value_counts().plot.bar()"
      ],
      "execution_count": null,
      "outputs": []
    },
    {
      "cell_type": "markdown",
      "metadata": {
        "id": "CL88L7FQVNfS",
        "colab_type": "text"
      },
      "source": [
        "### Activity 1\n",
        "\n",
        "Plot the same graph, but in the form of a 'horizontal bar plot', and 'pie plot'. Try using the 'groupby' function from pandas to plot the graph. Add a legend and title too.\n"
      ]
    },
    {
      "cell_type": "code",
      "metadata": {
        "id": "BOb5gaBAPfRT",
        "colab_type": "code",
        "colab": {}
      },
      "source": [
        "#INSERT YOUR CODE HERE"
      ],
      "execution_count": null,
      "outputs": []
    },
    {
      "cell_type": "markdown",
      "metadata": {
        "id": "rost4gY_Wci6",
        "colab_type": "text"
      },
      "source": [
        "### Activity 2\n",
        "\n",
        "Plot the frequency distribution of all the 26 plates in the 'merged' dataframe. Use any two plot types of your choice. \n",
        "Try plotting the same, using plot functions from matplotlib."
      ]
    },
    {
      "cell_type": "code",
      "metadata": {
        "id": "sBAK4BO9WYx9",
        "colab_type": "code",
        "colab": {}
      },
      "source": [
        "#INSERT YOUR CODE HERE\n"
      ],
      "execution_count": null,
      "outputs": []
    },
    {
      "cell_type": "markdown",
      "metadata": {
        "id": "EYAEpus9X_z7",
        "colab_type": "text"
      },
      "source": [
        "## Feature Extraction from an image\n",
        "\n",
        "In our slides for Day 2, we had discussed three methods for feature extraction in an image. We will now be trying two of them out.\n",
        "\n",
        "First, we use scikit-image which is a library containing a collection of algorithms for image processing. We will use the methods 'imread' and 'imshow' to read an image, and display it."
      ]
    },
    {
      "cell_type": "code",
      "metadata": {
        "id": "85bpgnmMYOK3",
        "colab_type": "code",
        "colab": {}
      },
      "source": [
        "import cv2\n",
        "import numpy as np\n",
        "from skimage.io import imread, imshow\n",
        "\n",
        "image = imread('comp-biology-2020/supplement_images_day1/E08_s2_w1.png') \n",
        "print(image.shape)\n",
        "imshow(image)"
      ],
      "execution_count": null,
      "outputs": []
    },
    {
      "cell_type": "markdown",
      "metadata": {
        "id": "6QaXbhmPn9RX",
        "colab_type": "text"
      },
      "source": [
        "\n",
        "\n",
        "**1. Raw Pixel Feature Vector**\n",
        "\n",
        "The simplest way is to extract the raw pixel feature vector. The image shape here is 1024 x 1024. Hence, the number of features should be 1,048,576. We can generate this using the reshape function from NumPy where we specify the dimension of the image:"
      ]
    },
    {
      "cell_type": "code",
      "metadata": {
        "id": "SSttoQV3nyGP",
        "colab_type": "code",
        "colab": {}
      },
      "source": [
        "features = np.reshape(image, (1024*1024))\n",
        "\n",
        "features.shape, features"
      ],
      "execution_count": null,
      "outputs": []
    },
    {
      "cell_type": "markdown",
      "metadata": {
        "id": "4zcYJasror6u",
        "colab_type": "text"
      },
      "source": [
        "The shape of the feature vector is (1048576, ). This is nothing but (1024*1024, ).\n",
        "\n",
        "Now, let us look at the second method for feature extraction.\n"
      ]
    },
    {
      "cell_type": "markdown",
      "metadata": {
        "id": "2rl0OX_Y2gK2",
        "colab_type": "text"
      },
      "source": [
        "**2. Extracting Edge Features**\n",
        "\n",
        "On our slides, we had learnt that the idea behind edge detection is to extract edges as features and use that as the input for the model. Recall that an edge is a sharp change in color, or image intensity.\n",
        "\n",
        "Let us again take a look at the example of a black square in a white background that we saw in the slides:\n",
        "\n",
        "![alt text](https://drive.google.com/uc?id=1UfTCfQDgGfXZzj9rjVXSNBVY0upc--6D)\n",
        "\n",
        "The 'vertical filter' in the above image is applied onto the red box by multiplying each pixel in the red box by each pixel in the filter element-wise. Each pixel in the result is achieved in exactly the same way. Then, we sum up the pixels in the result to get our vertical score. Here in our example, we get the vertical score/sum as -4. Thus, we know the pixel in question is part of a top vertical edge because we achieve the minimum value of -4.\n",
        "\n",
        "Then, in order to map the resulting values back to the 0–1 range, we simply add 4 and then divide by 8, mapping the -4 to a 0 (black) and mapping the 4 to a 1 (white)\n",
        "        \n",
        "\n",
        "In our example above, we have used the 'Sobel vertical filter'. In our coding exercises below, we will be using both: 'Sobel vertical filter', and 'Sobel horizontal filter'.\n",
        "\n",
        "What is the difference between Sobel vertical filter and Sobel horizontal filter?\n",
        "\n",
        "The Sobel horizontal filter is applied to the image in the horizontal direction, and the vertical filter is applied in the vertical direction. Visualize the results obtained after applying these two filters to the image separately to get a clearer idea.\n",
        "\n",
        "\n"
      ]
    },
    {
      "cell_type": "markdown",
      "metadata": {
        "id": "_wapAS-AuhdV",
        "colab_type": "text"
      },
      "source": [
        "Let us first test it out on a sample image of a puppy. We read the image, and convert it to grayscale."
      ]
    },
    {
      "cell_type": "code",
      "metadata": {
        "id": "DnAWyhTitqQ9",
        "colab_type": "code",
        "colab": {}
      },
      "source": [
        "puppy = imread('comp-biology-2020/supplement_images_day1/puppy.png', as_gray=True) #we convert it to grayscale because to apply the sobel filter, \n",
        "                                                                                    #we need the image to be a 2D array and not a 3D one (color image).\n",
        "puppy.shape, imshow(puppy)"
      ],
      "execution_count": null,
      "outputs": []
    },
    {
      "cell_type": "markdown",
      "metadata": {
        "id": "hu8h6PHRxPbS",
        "colab_type": "text"
      },
      "source": [
        "Instead of doing the math behind applying a filter to an image, there is an in-built function in skimage library to get the result directly after applying the Sobel vertical and horizontal filters, and display it."
      ]
    },
    {
      "cell_type": "code",
      "metadata": {
        "id": "0GdywRNO8Uwf",
        "colab_type": "code",
        "colab": {}
      },
      "source": [
        "from skimage.filters import sobel_h, sobel_v\n",
        "from skimage import feature\n",
        "\n",
        "#calculating horizontal edges using sobel kernel\n",
        "edges_sobel_horizontal = sobel_h(puppy)\n",
        "#calculating vertical edges using sobel kernel\n",
        "edges_sobel_vertical = sobel_v(puppy)\n",
        "\n",
        "imshow(edges_sobel_horizontal, cmap='gray')"
      ],
      "execution_count": null,
      "outputs": []
    },
    {
      "cell_type": "markdown",
      "metadata": {
        "id": "RQjKLVM98yy8",
        "colab_type": "text"
      },
      "source": [
        "Display edges_sobel_horizontal as well and observe the differences between the two results."
      ]
    },
    {
      "cell_type": "code",
      "metadata": {
        "id": "nmZFiB7ADPrO",
        "colab_type": "code",
        "colab": {}
      },
      "source": [
        "#INSERT YOUR CODE HERE "
      ],
      "execution_count": null,
      "outputs": []
    },
    {
      "cell_type": "markdown",
      "metadata": {
        "id": "QT0Umo6_DaqT",
        "colab_type": "text"
      },
      "source": [
        "Now, let us try to obtain a similar result by coding the math behind applying the filter to the image.\n",
        "\n",
        "First read the image again without converting it to grayscale, Then, assign the Sobel filter values (these are fixed values) for vertical and horizontal filters."
      ]
    },
    {
      "cell_type": "code",
      "metadata": {
        "id": "mV72zmAaxPnw",
        "colab_type": "code",
        "colab": {}
      },
      "source": [
        "%matplotlib inline\n",
        "import matplotlib.pyplot as plt\n",
        "\n",
        "puppy = imread('comp-biology-2020/supplement_images_day1/puppy.png') \n",
        "\n",
        "#define the vertical filter\n",
        "vertical_filter = [[-1,-2,-1], [0,0,0], [1,2,1]]\n",
        "\n",
        "#define the horizontal filter(transpose of the vertical filter)\n",
        "horizontal_filter = [[-1,0,1], [-2,0,2], [-1,0,1]]\n",
        "\n",
        "#get the dimensions of the image\n",
        "n,m,d = puppy.shape\n",
        "n,m"
      ],
      "execution_count": null,
      "outputs": []
    },
    {
      "cell_type": "markdown",
      "metadata": {
        "id": "bF0kkHcuAoE3",
        "colab_type": "text"
      },
      "source": [
        "### Activity 3 \n",
        "\n",
        "Follow the following steps, and code using the method discussed in the slides.\n",
        "\n",
        "Copy the original image into edges_img. We will be inserting our edge values into it one by one. Next, loop over the pixels in our original image: create a 3x3 box which is essentially a window/matrix considered in our original image, on which we will apply the filter. Then, multiply the values in the window with the ones in the vertical filter element-wise, and obtain the vertical score. Do the same for the horizontal filter. \n",
        "\n",
        "Now, in our example while studying how to apply a filter to an image, we only detected a single horizontal/vertical edge. In order to detect the horizontal edges, vertical edges, and edges that fall somewhere in between, we can combine the vertical and horizontal scores by calculating the Euclidean distance between them, and inserting this edge score into our image. This will give us the final result which we obtained in our previous example by directly using the in-built function."
      ]
    },
    {
      "cell_type": "code",
      "metadata": {
        "id": "ztdreuUbAoPj",
        "colab_type": "code",
        "colab": {}
      },
      "source": [
        "#initialize the edges image\n",
        "edges_img = puppy.copy()\n",
        "\n",
        "#loop over all pixels in the image\n",
        "for row in range(3, n-2): #we start from 3 to n-1, and 3 to m-2 to essentially bring out an approximation in picking out the centre of the image to get the object\n",
        "    for col in range(3, m-2):\n",
        "        \n",
        "        #create little local 3x3 box, to act as a window sliding through the image\n",
        "        local_pixels = puppy[row-1:row+2, col-1:col+2, 0]\n",
        "        \n",
        "        #INSERT YOUR CODE HERE with the help of the comments given\n",
        "        #apply the vertical filter\n",
        "        \n",
        "        #remap the vertical score\n",
        "        \n",
        "        #apply the horizontal filter\n",
        "       \n",
        "        #remap the horizontal score\n",
        "        \n",
        "        #combine the horizontal and vertical scores into a total edge score\n",
        "        #edge_score = ...\n",
        "        \n",
        "        #insert this edge score into the edges image\n",
        "        edges_img[row, col] = [edge_score]*3 #we multiply by 3 because the image is RGB with 3 channels"
      ],
      "execution_count": null,
      "outputs": []
    },
    {
      "cell_type": "markdown",
      "metadata": {
        "id": "0Qm4bkdVDUGt",
        "colab_type": "text"
      },
      "source": [
        "Normalize the values in the image, and display."
      ]
    },
    {
      "cell_type": "code",
      "metadata": {
        "id": "lX1jQmI7Cg1D",
        "colab_type": "code",
        "colab": {}
      },
      "source": [
        "#Since we combine both the horizontal and vertical edge scores, the final edge score might go out of the 0-1 range. Hence, we normalize it here at the end.\n",
        "edges_img = edges_img/edges_img.max()\n",
        "imshow(edges_img)"
      ],
      "execution_count": null,
      "outputs": []
    },
    {
      "cell_type": "markdown",
      "metadata": {
        "id": "WB_2xasASCnG",
        "colab_type": "text"
      },
      "source": [
        "Save your image results."
      ]
    },
    {
      "cell_type": "code",
      "metadata": {
        "id": "UAfPoCHuSFIk",
        "colab_type": "code",
        "colab": {}
      },
      "source": [
        "from skimage.io import imsave\n",
        "imsave('edge_puppy.jpg', edges_img) "
      ],
      "execution_count": null,
      "outputs": []
    },
    {
      "cell_type": "markdown",
      "metadata": {
        "id": "-Keostwouyxp",
        "colab_type": "text"
      },
      "source": [
        "### Activity 4\n",
        "\n",
        "1. Append the set of cell images given in the directory 'test_images_day1' to a list, and display them using subplot from matplotlib. Extract the raw pixel feature vector for these images. \n",
        "\n",
        "The *os* and *os.path* modules include functions to interact with the file system. We will be using some of them below to retrieve the image files from 'test_images_day1' directory."
      ]
    },
    {
      "cell_type": "code",
      "metadata": {
        "id": "PwMPDfvrna4d",
        "colab_type": "code",
        "colab": {}
      },
      "source": [
        "from os import listdir\n",
        "from os.path import isfile, join\n",
        "\n",
        "mypath='comp-biology-2020/test_images_day1'\n",
        "\n",
        "#listdir will retrieve the list of files and directories in the current directory, isfile will check whether the specified path is an existing regular file or not\n",
        "#join will join the path components 'mypath' and 'f'.\n",
        "files = [f for f in listdir(mypath) if isfile(join(mypath,f))]\n",
        "images = np.empty(len(files), dtype=object)\n",
        "for n in range(0, len(files)):\n",
        "  #INSERT YOUR CODE HERE for reading each image and appending to the images list.\n",
        "\n",
        "#INSERT YOUR CODE HERE to display images using subplot."
      ],
      "execution_count": null,
      "outputs": []
    },
    {
      "cell_type": "code",
      "metadata": {
        "id": "vli86m5fvCks",
        "colab_type": "code",
        "colab": {}
      },
      "source": [
        "#Extract the raw pixel feature vectors for the list of test images\n",
        "#INSERT YOUR CODE HERE\n"
      ],
      "execution_count": null,
      "outputs": []
    },
    {
      "cell_type": "markdown",
      "metadata": {
        "id": "YlQWpe8tXpbl",
        "colab_type": "text"
      },
      "source": [
        "### Activity 5 (Advanced)\n",
        "Use the edge detection method we just discussed, and extract the features for the same set of images from Activity 4. Use the inbuilt method for Sobel filter in skimage, and then the detailed math method. \n",
        "\n",
        "Hint: Use the same list 'images' that you used in the previous activity, and first display the results with the horizontal Sobel filter applied using subplot (simply reuse your code from the previous activity), and then display the results with the vertical Sobel filter applied.\n",
        "\n"
      ]
    },
    {
      "cell_type": "code",
      "metadata": {
        "id": "s5NoL7diXoLf",
        "colab_type": "code",
        "colab": {}
      },
      "source": [
        "#INSERT YOUR CODE HERE"
      ],
      "execution_count": null,
      "outputs": []
    },
    {
      "cell_type": "markdown",
      "metadata": {
        "id": "bhbQITmtX2qh",
        "colab_type": "text"
      },
      "source": [
        "### Activity 6 (Advanced)\n",
        "Recall the explanation of Prewitt Filters, and Canny filters from the slides. Implement them using the inbuilt function in skimage, and we can discuss the results during the office hours. You can either use just the first image from test_images_day1, or all the images concatenated into a list (use 'images' from Activity 4)\n",
        "\n",
        "Note: For each activity, save your image results using imsave, to display during the next session.\n",
        "\n",
        "You can google the in-built function for Prewitt and Canny in skimage.filters\n",
        "\n",
        "Feature extraction will not be used in the following days, this is just to give an introduction to image processing using basic Computer Vision techniques."
      ]
    },
    {
      "cell_type": "code",
      "metadata": {
        "id": "shyD6fBnp5cN",
        "colab_type": "code",
        "colab": {}
      },
      "source": [
        "#INSERT YOUR CODE HERE"
      ],
      "execution_count": null,
      "outputs": []
    }
  ]
}
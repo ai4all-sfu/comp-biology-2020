{
  "nbformat": 4,
  "nbformat_minor": 0,
  "metadata": {
    "colab": {
      "name": "day3_compbio.ipynb",
      "provenance": [],
      "collapsed_sections": []
    },
    "kernelspec": {
      "name": "python3",
      "display_name": "Python 3"
    }
  },
  "cells": [
    {
      "cell_type": "markdown",
      "metadata": {
        "id": "B1VwIpUrpKCe",
        "colab_type": "text"
      },
      "source": [
        "# Day 3: Classification Models\n",
        "\n",
        "On the first day we learnt about the embeddings, and yesterday about the Factor Models to reduce the dimensionality of the dataset. Today, our goal is to build a classification model to classify the images into 'active' and 'inactive'. \n",
        "\n",
        "## 1. Loading and Exploring Data\n",
        "As yesterday, we are going to clone the repo to get the data. We added 3 new files with the latent features from the 3 factor models we explored in day 2. \n"
      ]
    },
    {
      "cell_type": "code",
      "metadata": {
        "id": "6YiBgX8upFzy",
        "colab_type": "code",
        "colab": {}
      },
      "source": [
        "#! git clone https://github.com/ai4all-sfu/comp-biology-2020.git"
      ],
      "execution_count": 29,
      "outputs": []
    },
    {
      "cell_type": "code",
      "metadata": {
        "id": "ke9UPeiMBaxj",
        "colab_type": "code",
        "colab": {
          "base_uri": "https://localhost:8080/",
          "height": 151
        },
        "outputId": "fc512b66-da66-4990-995f-b91f8af4b354"
      },
      "source": [
        "#Loading the libraries \n",
        "\n",
        "import pandas as pd \n",
        "import numpy as np \n",
        "import matplotlib.pyplot as plt\n",
        "from sklearn.preprocessing import MinMaxScaler\n",
        "\n",
        "\n",
        "#Loading Files we cloned from github \n",
        "embeddings = pd.read_pickle('comp-biology-2020/embeddings.pkl', compression = 'xz')\n",
        "metadata = pd.read_pickle('comp-biology-2020/metadata.pkl', compression = 'xz')\n",
        "\n",
        "#Selecting only the columns 'site_id' and 'disease_condition'\n",
        "metadata = metadata.iloc[:,[0,7]]\n",
        "\n",
        "#Adding the target 'disease_condition' on embeddings dataset and transforming to 0-1 scale\n",
        "\n",
        "embeddings01 = embeddings.set_index('site_id').join(metadata.set_index('site_id'))\n",
        "print(embeddings.head())"
      ],
      "execution_count": 30,
      "outputs": [
        {
          "output_type": "stream",
          "text": [
            "             site_id  feature_0  ...  feature_1022  feature_1023\n",
            "24  HRCE-1_10_AA08_1   2.297975  ...     -0.286453     -1.424416\n",
            "25  HRCE-1_10_AA08_2   2.023117  ...      0.145723     -1.794530\n",
            "35  HRCE-1_10_AA10_4   2.725714  ...      0.033494     -1.130605\n",
            "56  HRCE-1_10_AA16_1   2.525933  ...     -0.127639     -1.530562\n",
            "57  HRCE-1_10_AA16_2   2.462103  ...     -0.313509     -1.556824\n",
            "\n",
            "[5 rows x 1025 columns]\n"
          ],
          "name": "stdout"
        }
      ]
    },
    {
      "cell_type": "code",
      "metadata": {
        "id": "Z2l9uc2MvDnq",
        "colab_type": "code",
        "colab": {
          "base_uri": "https://localhost:8080/",
          "height": 67
        },
        "outputId": "bfa1be6a-5b62-44fc-88c5-16237e6b4497"
      },
      "source": [
        "# Loading latent features from yesterday  (they are sorted in the same order of the embeddings dataset)\n",
        "\n",
        "pca = np.load('comp-biology-2020/latent_features/pca50.npz')['arr_0']\n",
        "nmf = np.load('comp-biology-2020/latent_features/mf60.npz')['arr_0']\n",
        "aut = np.load('comp-biology-2020/latent_features/a32.npz')['arr_0']\n",
        "\n",
        "print('PCA Dimensions: ',pca.shape, '\\nMF Dimensions: ',nmf.shape, '\\nAutoencoder Dimensions: ',aut.shape)"
      ],
      "execution_count": 31,
      "outputs": [
        {
          "output_type": "stream",
          "text": [
            "PCA Dimensions:  (16000, 50) \n",
            "MF Dimensions:  (16000, 60) \n",
            "Autoencoder Dimensions:  (16000, 32)\n"
          ],
          "name": "stdout"
        }
      ]
    },
    {
      "cell_type": "markdown",
      "metadata": {
        "id": "59Sg7bTyE9qf",
        "colab_type": "text"
      },
      "source": [
        "In the left side, click in 'Files' and 'Upload to Session Storage' as show in the image below:  \n",
        "![alt text](https://i.imgur.com/oLk88Mu.jpg)\n",
        "\n",
        "Upload the files from yesterday's exercise: 'mypca.npz' and 'mysvd.npz' "
      ]
    },
    {
      "cell_type": "code",
      "metadata": {
        "id": "CHO7VSq0Ebnk",
        "colab_type": "code",
        "colab": {
          "base_uri": "https://localhost:8080/",
          "height": 50
        },
        "outputId": "d0a47983-ec40-43a4-9275-9e2c534e3459"
      },
      "source": [
        "mypca = np.load('mypca.npz')['arr_0']\n",
        "mymf = np.load('mymf.npz')['arr_0']\n",
        "\n",
        "print('My PCA Dimensions: ',mypca.shape, '\\nMy MF Dimensions: ',mymf.shape) "
      ],
      "execution_count": 32,
      "outputs": [
        {
          "output_type": "stream",
          "text": [
            "My PCA Dimensions:  (16000, 50) \n",
            "My MF Dimensions:  (16000, 60)\n"
          ],
          "name": "stdout"
        }
      ]
    },
    {
      "cell_type": "markdown",
      "metadata": {
        "id": "KMqQsTNzIgYA",
        "colab_type": "text"
      },
      "source": [
        "Now let's check the target, that is the disease condition. Based on the image, we want to be able to identify if is active for SARS-CoV-2 or inactive. \n"
      ]
    },
    {
      "cell_type": "code",
      "metadata": {
        "id": "EBx1b90RIeUR",
        "colab_type": "code",
        "colab": {
          "base_uri": "https://localhost:8080/",
          "height": 67
        },
        "outputId": "5484ed03-4d2a-402e-ab16-93be7cfe53ea"
      },
      "source": [
        "print(embeddings01['disease_condition'].value_counts()) \n"
      ],
      "execution_count": 33,
      "outputs": [
        {
          "output_type": "stream",
          "text": [
            "inactive    8000\n",
            "active      8000\n",
            "Name: disease_condition, dtype: int64\n"
          ],
          "name": "stdout"
        }
      ]
    },
    {
      "cell_type": "markdown",
      "metadata": {
        "id": "FSlNiWiNOjdc",
        "colab_type": "text"
      },
      "source": [
        "To use this information in our classification models, we are going to transform this column in a binary variable: if the disease condition is active, it will receive the value 1; and 0 if inactive. "
      ]
    },
    {
      "cell_type": "code",
      "metadata": {
        "id": "Q22LWFkDCvMW",
        "colab_type": "code",
        "colab": {
          "base_uri": "https://localhost:8080/",
          "height": 101
        },
        "outputId": "c41c80fc-965f-4692-af7c-f1368907d607"
      },
      "source": [
        "target = embeddings01['disease_condition'].replace({'active':1, 'inactive':0}).tolist() \n",
        "\n",
        "print(embeddings01['disease_condition'].value_counts()) \n",
        "print(\"Before transforming:\" ,embeddings01['disease_condition'][0:5].tolist())\n",
        "print(\"After transforming:\",target[0:5])"
      ],
      "execution_count": 34,
      "outputs": [
        {
          "output_type": "stream",
          "text": [
            "inactive    8000\n",
            "active      8000\n",
            "Name: disease_condition, dtype: int64\n",
            "Before transforming: ['inactive', 'inactive', 'active', 'inactive', 'inactive']\n",
            "After transforming: [0, 0, 1, 0, 0]\n"
          ],
          "name": "stdout"
        }
      ]
    },
    {
      "cell_type": "code",
      "metadata": {
        "id": "-iaf85eGL-Or",
        "colab_type": "code",
        "colab": {}
      },
      "source": [
        "#Bulding a dictionary with all the features\n",
        "features = {'PCA': pca, 'MF': nmf, 'Autoencoder':aut, 'MyPCa': mypca, 'MyMF': mymf}"
      ],
      "execution_count": 35,
      "outputs": []
    },
    {
      "cell_type": "markdown",
      "metadata": {
        "id": "_tV6wnzKPDvC",
        "colab_type": "text"
      },
      "source": [
        "## 2. Classification Models\n",
        "\n",
        "Given a set of cell images, our task is to classify if they are infected (class 'active') or not (class 'inactive'). "
      ]
    },
    {
      "cell_type": "markdown",
      "metadata": {
        "id": "nYpaMoM9yH76",
        "colab_type": "text"
      },
      "source": [
        "\n",
        "We will use sklearn to import our classifiers. The three models we are going to explore are Logistic Regression, KNN Classifier, and Random Forest."
      ]
    },
    {
      "cell_type": "code",
      "metadata": {
        "id": "DnIqYLNXoWJ6",
        "colab_type": "code",
        "colab": {}
      },
      "source": [
        "#import os\n",
        "#import glob\n",
        "#import cv2\n",
        "import warnings\n",
        "#from matplotlib import pyplot\n",
        "from sklearn.model_selection import train_test_split, cross_val_score\n",
        "from sklearn.metrics import accuracy_score, precision_score, recall_score\n",
        "from sklearn.linear_model import LogisticRegression\n",
        "from sklearn.ensemble import RandomForestClassifier\n",
        "from sklearn.neighbors import KNeighborsClassifier\n",
        "\n",
        "warnings.filterwarnings('ignore')\n",
        "seed      = 9\n",
        "\n",
        "# variables to hold the results and models' names\n",
        "results = pd.DataFrame(columns=['model', 'features','accuracy_train', 'accuracy_test', 'precision_test', 'recall_test'])\n"
      ],
      "execution_count": 36,
      "outputs": []
    },
    {
      "cell_type": "markdown",
      "metadata": {
        "id": "BizhQX1ZJvYd",
        "colab_type": "text"
      },
      "source": [
        "The first model we are going to explore is the Logistic Regression. \n",
        "\n"
      ]
    },
    {
      "cell_type": "code",
      "metadata": {
        "id": "frzl_8YOyUx7",
        "colab_type": "code",
        "colab": {
          "base_uri": "https://localhost:8080/",
          "height": 151
        },
        "outputId": "78306651-b102-4874-a278-b894f7ab0c64"
      },
      "source": [
        "lr = LogisticRegression(random_state=seed)\n",
        "model_name = 'Logistic Regression'\n",
        "for f in features:\n",
        "  #1) Split the features in training and testing set \n",
        "  X_train, X_test, y_train, y_test = train_test_split(features[f],target , test_size=0.3, random_state=seed) \n",
        "  #2) Fit the model\n",
        "  model = lr.fit(X_train,y_train)\n",
        "  #3) Predict the labels for the training set and testing set\n",
        "  y_train_pred = model.predict(X_train)\n",
        "  y_test_pred = model.predict(X_test)\n",
        "  #4) Save the results and calculate the accuracy \n",
        "  output = {'model':model_name, \n",
        "            'features':f, \n",
        "            'accuracy_train':accuracy_score(y_train,y_train_pred), \n",
        "            'accuracy_test':accuracy_score(y_test,y_test_pred),\n",
        "            'precision_test':precision_score(y_test,y_test_pred) ,\n",
        "            'recall_test':recall_score(y_test,y_test_pred) }\n",
        "  results = results.append(output,ignore_index=True)\n",
        "\n",
        "print(results)"
      ],
      "execution_count": 37,
      "outputs": [
        {
          "output_type": "stream",
          "text": [
            "                 model     features  ...  precision_test  recall_test\n",
            "0  Logistic Regression          PCA  ...        0.990426     0.947544\n",
            "1  Logistic Regression           MF  ...        0.991814     0.958368\n",
            "2  Logistic Regression  Autoencoder  ...        0.559701     0.156120\n",
            "3  Logistic Regression        MyPCa  ...        0.990426     0.947544\n",
            "4  Logistic Regression         MyMF  ...        0.991814     0.958368\n",
            "\n",
            "[5 rows x 6 columns]\n"
          ],
          "name": "stdout"
        }
      ]
    },
    {
      "cell_type": "markdown",
      "metadata": {
        "id": "cC4grgE4Ppw_",
        "colab_type": "text"
      },
      "source": [
        "Now we are going to explore the Random Forest. "
      ]
    },
    {
      "cell_type": "code",
      "metadata": {
        "id": "qpe0F8pmPnxG",
        "colab_type": "code",
        "colab": {
          "base_uri": "https://localhost:8080/",
          "height": 235
        },
        "outputId": "86701bb0-9c2c-44b5-f4ec-e2b476976968"
      },
      "source": [
        "rf = RandomForestClassifier(n_estimators=30, random_state=seed)\n",
        "model_name = 'Random Forest'\n",
        "\n",
        "for f in features:\n",
        "  #1) Split the features in training and testing set \n",
        "  X_train, X_test, y_train, y_test = train_test_split(features[f],target , test_size=0.3, random_state=seed) \n",
        "  #2) Fit the model\n",
        "  model = rf.fit(X_train,y_train)\n",
        "  #3) Predict the labels for the training set and testing set\n",
        "  y_train_pred = model.predict(X_train)\n",
        "  y_test_pred = model.predict(X_test)\n",
        "  #4) Save the results and calculate the accuracy \n",
        "  output = {'model':model_name, \n",
        "            'features':f, \n",
        "            'accuracy_train':accuracy_score(y_train,y_train_pred), \n",
        "            'accuracy_test':accuracy_score(y_test,y_test_pred),\n",
        "            'precision_test':precision_score(y_test,y_test_pred) ,\n",
        "            'recall_test':recall_score(y_test,y_test_pred) }\n",
        "  results = results.append(output,ignore_index=True)\n",
        "\n",
        "print(results)"
      ],
      "execution_count": 38,
      "outputs": [
        {
          "output_type": "stream",
          "text": [
            "                 model     features  ...  precision_test  recall_test\n",
            "0  Logistic Regression          PCA  ...        0.990426     0.947544\n",
            "1  Logistic Regression           MF  ...        0.991814     0.958368\n",
            "2  Logistic Regression  Autoencoder  ...        0.559701     0.156120\n",
            "3  Logistic Regression        MyPCa  ...        0.990426     0.947544\n",
            "4  Logistic Regression         MyMF  ...        0.991814     0.958368\n",
            "5        Random Forest          PCA  ...        0.974037     0.937136\n",
            "6        Random Forest           MF  ...        0.975945     0.945878\n",
            "7        Random Forest  Autoencoder  ...        0.545533     0.526228\n",
            "8        Random Forest        MyPCa  ...        0.974037     0.937136\n",
            "9        Random Forest         MyMF  ...        0.975945     0.945878\n",
            "\n",
            "[10 rows x 6 columns]\n"
          ],
          "name": "stdout"
        }
      ]
    },
    {
      "cell_type": "markdown",
      "metadata": {
        "id": "9NLQBgZaQJmi",
        "colab_type": "text"
      },
      "source": [
        "### Activity 1: \n",
        "\n",
        "Can you now fit the KNN by yourself? "
      ]
    },
    {
      "cell_type": "code",
      "metadata": {
        "id": "L-XE9EXIQF5Y",
        "colab_type": "code",
        "colab": {
          "base_uri": "https://localhost:8080/",
          "height": 319
        },
        "outputId": "e4d6322f-9cc6-4789-e730-4847f67d2a44"
      },
      "source": [
        "knn = KNeighborsClassifier()\n",
        "model_name = 'KNN'\n",
        "\n",
        "#ADD YOUR CODE HERE\n",
        "\n",
        "#START - DELETE\n",
        "for f in features:\n",
        "  #1) Split the features in training and testing set \n",
        "  X_train, X_test, y_train, y_test = train_test_split(features[f],target , test_size=0.3, random_state=seed) \n",
        "  #2) Fit the model\n",
        "  model = knn.fit(X_train,y_train)\n",
        "  #3) Predict the labels for the training set and testing set\n",
        "  y_train_pred = model.predict(X_train)\n",
        "  y_test_pred = model.predict(X_test)\n",
        "  #4) Save the results and calculate the accuracy \n",
        "  output = {'model':model_name, \n",
        "            'features':f, \n",
        "            'accuracy_train':accuracy_score(y_train,y_train_pred), \n",
        "            'accuracy_test':accuracy_score(y_test,y_test_pred),\n",
        "            'precision_test':precision_score(y_test,y_test_pred) ,\n",
        "            'recall_test':recall_score(y_test,y_test_pred) }\n",
        "  results = results.append(output,ignore_index=True)\n",
        "#END - DELETE\n",
        "\n",
        "print(results)"
      ],
      "execution_count": 39,
      "outputs": [
        {
          "output_type": "stream",
          "text": [
            "                  model     features  ...  precision_test  recall_test\n",
            "0   Logistic Regression          PCA  ...        0.990426     0.947544\n",
            "1   Logistic Regression           MF  ...        0.991814     0.958368\n",
            "2   Logistic Regression  Autoencoder  ...        0.559701     0.156120\n",
            "3   Logistic Regression        MyPCa  ...        0.990426     0.947544\n",
            "4   Logistic Regression         MyMF  ...        0.991814     0.958368\n",
            "5         Random Forest          PCA  ...        0.974037     0.937136\n",
            "6         Random Forest           MF  ...        0.975945     0.945878\n",
            "7         Random Forest  Autoencoder  ...        0.545533     0.526228\n",
            "8         Random Forest        MyPCa  ...        0.974037     0.937136\n",
            "9         Random Forest         MyMF  ...        0.975945     0.945878\n",
            "10                  KNN          PCA  ...        0.997680     0.895087\n",
            "11                  KNN           MF  ...        0.996840     0.919234\n",
            "12                  KNN  Autoencoder  ...        0.532579     0.568276\n",
            "13                  KNN        MyPCa  ...        0.997680     0.895087\n",
            "14                  KNN         MyMF  ...        0.996840     0.919234\n",
            "\n",
            "[15 rows x 6 columns]\n"
          ],
          "name": "stdout"
        }
      ]
    },
    {
      "cell_type": "markdown",
      "metadata": {
        "id": "E1Run7zb0eY-",
        "colab_type": "text"
      },
      "source": [
        "Let us use a boxplot to plot the comparison of performance of all the three machine learning algorithms."
      ]
    },
    {
      "cell_type": "code",
      "metadata": {
        "id": "d47iAtp2o7Bu",
        "colab_type": "code",
        "colab": {
          "base_uri": "https://localhost:8080/",
          "height": 314
        },
        "outputId": "bdcde81c-046c-443e-f1b0-86a12b86df2b"
      },
      "source": [
        "#Plot with comparison\n",
        "import seaborn as sns; sns.set()\n",
        "\n",
        "results[\"model\"] = results[\"model\"].astype('category')\n",
        "results[\"features\"] = results[\"features\"].astype('category')\n",
        "\n",
        "fig = plt.figure()\n",
        "fig.suptitle('\\nComparison of performance between the three ML algorithms')\n",
        "ax = sns.scatterplot(x=\"accuracy_train\", y=\"accuracy_test\", hue=\"model\", style=\"features\", data=results, s = 80)\n",
        "plt.legend(bbox_to_anchor=(1.05, 1), loc=2, borderaxespad=0.)\n",
        "plt.xlabel('Accuracy - Training Set')\n",
        "plt.ylabel('Accuracy - Testing Set')\n",
        "plt.show()"
      ],
      "execution_count": 40,
      "outputs": [
        {
          "output_type": "display_data",
          "data": {
            "image/png": "[encoded data removed]",
            "text/plain": [
              "<Figure size 432x288 with 1 Axes>"
            ]
          },
          "metadata": {
            "tags": []
          }
        }
      ]
    },
    {
      "cell_type": "markdown",
      "metadata": {
        "id": "ZGmHKnBNaU5Z",
        "colab_type": "text"
      },
      "source": [
        "The autoencoder features seems to have the worse results. \n",
        "Let's try to remove it and make our plot again. "
      ]
    },
    {
      "cell_type": "code",
      "metadata": {
        "id": "fTVasmgjad9W",
        "colab_type": "code",
        "colab": {
          "base_uri": "https://localhost:8080/",
          "height": 314
        },
        "outputId": "9bd44b50-1bc9-4057-a7df-c9719654a8ee"
      },
      "source": [
        "results_without_autoencoder = results[results['features']!='autoencoder']\n",
        "results_without_autoencoder[\"model\"] = results_without_autoencoder[\"model\"].astype('category')\n",
        "results_without_autoencoder[\"features\"] = results_without_autoencoder[\"features\"].astype('category')\n",
        "\n",
        "fig = plt.figure()\n",
        "fig.suptitle('\\nComparison of performance between the three ML algorithms')\n",
        "ax = sns.scatterplot(x=\"accuracy_train\", y=\"accuracy_test\", hue=\"model\", style=\"features\", s = 80, data=results_without_autoencoder)\n",
        "plt.legend(bbox_to_anchor=(1.05, 1), loc=2, borderaxespad=0.)\n",
        "plt.xlabel('Accuracy - Training Set')\n",
        "plt.ylabel('Accuracy - Testing Set')\n",
        "plt.show()"
      ],
      "execution_count": 41,
      "outputs": [
        {
          "output_type": "display_data",
          "data": {
            "image/png": "[encoded data removed]",
            "text/plain": [
              "<Figure size 432x288 with 1 Axes>"
            ]
          },
          "metadata": {
            "tags": []
          }
        }
      ]
    },
    {
      "cell_type": "markdown",
      "metadata": {
        "id": "DNqDzayzbnTg",
        "colab_type": "text"
      },
      "source": [
        "### Activity 2\n",
        "\n",
        "Based on the plot results, what combination of Model and Features do you think have the best results?"
      ]
    },
    {
      "cell_type": "markdown",
      "metadata": {
        "id": "XL4xXfzomfiv",
        "colab_type": "text"
      },
      "source": [
        "### Activity Advanced Level Only\n",
        "\n",
        "Now it's your turn to explore a classification model. \n",
        "\n",
        "There is classification model called [SVM](https://https://scikit-learn.org/stable/modules/generated/sklearn.svm.SVC.html). \n",
        "\n",
        "Read about this type of model and try to implement by yourself! \n",
        "Before adding the outputs to the 'results' file, explore some of the parameters available. Then, you can add your best SVM model in the 'results'. \n",
        "\n"
      ]
    },
    {
      "cell_type": "code",
      "metadata": {
        "id": "owuadnnMmpfA",
        "colab_type": "code",
        "colab": {}
      },
      "source": [
        "#ADD HERE YOUR CODE \n",
        "\n",
        "\n",
        "#Delete everything \n",
        "from sklearn.svm import SVC\n",
        "svm = SVC(gamma='auto')\n",
        "model_name = 'SVM'\n",
        "\n",
        "for f in features:\n",
        "  #1) Split the features in training and testing set \n",
        "  X_train, X_test, y_train, y_test = train_test_split(features[f],target , test_size=0.3, random_state=seed) \n",
        "  #2) Fit the model\n",
        "  model = svm.fit(X_train,y_train)\n",
        "  #3) Predict the labels for the training set and testing set\n",
        "  y_train_pred = model.predict(X_train)\n",
        "  y_test_pred = model.predict(X_test)\n",
        "  #4) Save the results and calculate the accuracy \n",
        "  output = {'model':model_name, \n",
        "            'features':f, \n",
        "            'accuracy_train':accuracy_score(y_train,y_train_pred), \n",
        "            'accuracy_test':accuracy_score(y_test,y_test_pred),\n",
        "            'precision_test':precision_score(y_test,y_test_pred) ,\n",
        "            'recall_test':recall_score(y_test,y_test_pred) }\n",
        "  results = results.append(output,ignore_index=True)\n",
        "\n"
      ],
      "execution_count": 42,
      "outputs": []
    },
    {
      "cell_type": "code",
      "metadata": {
        "id": "CmDrkuNmpk_a",
        "colab_type": "code",
        "colab": {}
      },
      "source": [
        "#ADD HERE A PLOT COMPARING ALL MODELS"
      ],
      "execution_count": 43,
      "outputs": []
    },
    {
      "cell_type": "markdown",
      "metadata": {
        "id": "YdKi5OH_pLWw",
        "colab_type": "text"
      },
      "source": [
        "## 3. Convolutional Neural Network\n",
        "\n",
        "In the previous section we explored classification models with the features we built yesterday. \n",
        "\n",
        "Now, we are going to explore one last model, called Convolutional Neural Network (CNN), that will use as input the embedding file. \n",
        "\n",
        "In order to use the CNN model, however, we are going to modify a little bit the format of the input data (embeddings file). "
      ]
    },
    {
      "cell_type": "code",
      "metadata": {
        "id": "T2fH2yU8ePqx",
        "colab_type": "code",
        "colab": {
          "base_uri": "https://localhost:8080/",
          "height": 151
        },
        "outputId": "b247440c-d725-4972-fb22-e147571321f1"
      },
      "source": [
        "from keras.utils import np_utils\n",
        "\n",
        "#Expanding the dimensions \n",
        "trainData = np.expand_dims(embeddings01.drop('disease_condition',axis=1), axis=2)\n",
        "#Splitting into training data and testing data\n",
        "X_train, X_test, y_train, y_test = train_test_split(trainData,target, test_size=0.3, random_state=7)\n",
        "\n",
        "# number of samples in training data\n",
        "print(\"Number of training samples:\", X_train.shape[0])\n",
        "# number of samples in testing data\n",
        "print(\"Number of testing samples:\", X_test.shape[0])\n",
        "# number of features used\n",
        "# this is a vector of features extracted \n",
        "print(\"Number of features:\", X_train.shape[1])\n",
        "\n",
        "#convert the train and test labels to np arrays\n",
        "y_train01=np.array(y_train)\n",
        "y_test01=np.array(y_test)\n",
        "\n",
        "print(y_train[0:5])\n",
        "#Convert the array of labeled data to one-hot vector\n",
        "y_train = np_utils.to_categorical(y_train01)\n",
        "y_test = np_utils.to_categorical(y_test01)\n",
        "\n",
        "#Expand the dimensions of train and test feature vector dataset into 3D\n",
        "#x_traincnn = np.expand_dims(X_train, axis=2)\n",
        "#x_testcnn = np.expand_dims(X_test, axis=2)\n",
        "\n",
        "print(X_train.shape) \n",
        "print(X_train.shape)\n",
        "print(y_train.shape) \n",
        "print(y_test.shape)\n"
      ],
      "execution_count": 44,
      "outputs": [
        {
          "output_type": "stream",
          "text": [
            "Number of training samples: 11200\n",
            "Number of testing samples: 4800\n",
            "Number of features: 1024\n",
            "[0, 0, 1, 1, 0]\n",
            "(11200, 1024, 1)\n",
            "(11200, 1024, 1)\n",
            "(11200, 2)\n",
            "(4800, 2)\n"
          ],
          "name": "stdout"
        }
      ]
    },
    {
      "cell_type": "markdown",
      "metadata": {
        "id": "RzpLaWsy3C-z",
        "colab_type": "text"
      },
      "source": [
        "We use keras library to build a sequential basic CNN model consisting of 4 convolutional layers and one fully connected layer at the end supported by softmax activation function for classification. Each convolutional layer is followed by a maxpool operation and a dropout layer.\n",
        "\n",
        "The code below is going to take a couple of minutes. "
      ]
    },
    {
      "cell_type": "code",
      "metadata": {
        "id": "ce44Wbr5piQf",
        "colab_type": "code",
        "colab": {
          "base_uri": "https://localhost:8080/",
          "height": 403
        },
        "outputId": "c65def2a-433c-4b3e-b035-2791808204c5"
      },
      "source": [
        "#Loading libraries\n",
        "from sklearn.metrics import accuracy_score\n",
        "import keras\n",
        "from keras.models import Sequential\n",
        "from keras.layers import Input, Flatten, Dropout, Activation, Dense\n",
        "from keras.layers import Conv1D, MaxPooling1D, AveragePooling1D, LSTM\n",
        "from keras.models import Model\n",
        "from keras.layers import Input, Dense\n",
        "from keras.preprocessing.text import Tokenizer\n",
        "from keras.preprocessing.sequence import pad_sequences\n",
        "from keras.utils import np_utils\n",
        "from numpy import newaxis\n",
        "\n",
        "model = Sequential()\n",
        "model.add(Conv1D(32,3,padding='same',activation='relu',input_shape=(1024,1))) \n",
        "model.add(MaxPooling1D(pool_size=2))\n",
        "model.add(Dropout(0.1))\n",
        "model.add(Conv1D(32,3,padding='same',activation='relu'))\n",
        "model.add(MaxPooling1D(pool_size=2))\n",
        "model.add(Dropout(0.1))\n",
        "model.add(Conv1D(64,3,padding='same',activation='relu'))\n",
        "model.add(MaxPooling1D(pool_size=2))\n",
        "model.add(Dropout(0.1))\n",
        "model.add(Conv1D(64,3,padding='same',activation='relu'))\n",
        "model.add(MaxPooling1D(pool_size=2))\n",
        "model.add(Flatten())\n",
        "model.add(Dense(units=2,activation = 'softmax'))\n",
        "model.compile(loss='categorical_crossentropy', optimizer='adam',metrics=['accuracy'])\n",
        "\n",
        "#Fit the model, train for 10 epochs, with batch size = 32\n",
        "cnnhistory=model.fit(X_train, np.array(y_train), batch_size=32, epochs=10, validation_data=(X_test, np.array(y_test)))\n",
        "#Print the training accuracy obtained in each epoch.\n",
        "print(\"Accuracy: {:.2f}%\".format(cnnhistory.history['accuracy'][-1]*100))\n",
        "#Print the validation accuracy obtained in each epoch.\n",
        "print(\"Validation Accuracy: {:.2f}%\".format(cnnhistory.history['val_accuracy'][-1]*100))"
      ],
      "execution_count": 45,
      "outputs": [
        {
          "output_type": "stream",
          "text": [
            "Train on 11200 samples, validate on 4800 samples\n",
            "Epoch 1/10\n",
            "11200/11200 [==============================] - 24s 2ms/step - loss: 0.2246 - accuracy: 0.9070 - val_loss: 0.1327 - val_accuracy: 0.9583\n",
            "Epoch 2/10\n",
            "11200/11200 [==============================] - 23s 2ms/step - loss: 0.1056 - accuracy: 0.9651 - val_loss: 0.0998 - val_accuracy: 0.9706\n",
            "Epoch 3/10\n",
            "11200/11200 [==============================] - 23s 2ms/step - loss: 0.0963 - accuracy: 0.9698 - val_loss: 0.0763 - val_accuracy: 0.9767\n",
            "Epoch 4/10\n",
            "11200/11200 [==============================] - 23s 2ms/step - loss: 0.0863 - accuracy: 0.9717 - val_loss: 0.0708 - val_accuracy: 0.9794\n",
            "Epoch 5/10\n",
            "11200/11200 [==============================] - 23s 2ms/step - loss: 0.0830 - accuracy: 0.9742 - val_loss: 0.0977 - val_accuracy: 0.9706\n",
            "Epoch 6/10\n",
            "11200/11200 [==============================] - 23s 2ms/step - loss: 0.0787 - accuracy: 0.9764 - val_loss: 0.0845 - val_accuracy: 0.9746\n",
            "Epoch 7/10\n",
            "11200/11200 [==============================] - 23s 2ms/step - loss: 0.0725 - accuracy: 0.9779 - val_loss: 0.1014 - val_accuracy: 0.9685\n",
            "Epoch 8/10\n",
            "11200/11200 [==============================] - 26s 2ms/step - loss: 0.0735 - accuracy: 0.9763 - val_loss: 0.0852 - val_accuracy: 0.9750\n",
            "Epoch 9/10\n",
            "11200/11200 [==============================] - 23s 2ms/step - loss: 0.0717 - accuracy: 0.9788 - val_loss: 0.1340 - val_accuracy: 0.9623\n",
            "Epoch 10/10\n",
            "11200/11200 [==============================] - 23s 2ms/step - loss: 0.0682 - accuracy: 0.9795 - val_loss: 0.0869 - val_accuracy: 0.9762\n",
            "Accuracy: 97.95%\n",
            "Validation Accuracy: 97.62%\n"
          ],
          "name": "stdout"
        }
      ]
    },
    {
      "cell_type": "code",
      "metadata": {
        "id": "nnVYeoarf4Lb",
        "colab_type": "code",
        "colab": {}
      },
      "source": [
        "y_train_pred = model.predict_classes(X_train)\n",
        "y_test_pred = model.predict_classes(X_test)\n",
        "\n",
        "output = {'model':'CNN', \n",
        "            'features':'embeddings', \n",
        "            'accuracy_train':accuracy_score(y_train01,y_train_pred), \n",
        "            'accuracy_test':accuracy_score(y_test01,y_test_pred), \n",
        "            'precision_test':precision_score(y_test01,y_test_pred) ,\n",
        "            'recall_test':recall_score(y_test01,y_test_pred)  }\n",
        "results = results.append(output,ignore_index=True)\n",
        "\n"
      ],
      "execution_count": 46,
      "outputs": []
    },
    {
      "cell_type": "markdown",
      "metadata": {
        "id": "TsB0D-rxlvoG",
        "colab_type": "text"
      },
      "source": [
        "### Activity 3:\n",
        " \n",
        "Create 2 plots to compare the results of all the models previously explored (CNN, KNN, LR, RF, others).\n",
        "\n",
        "1. Accuracy on training data *versus* testing data; \n",
        "2. Precision *versus* Recall on testing data. \n",
        "\n",
        "Given a set of unlabelled cell images, if you had to choose only one model to classify if they are infected (label ‘active’) by SARS-CoV-2 or not (label ‘inactive’), which one would be? \n",
        "\n"
      ]
    },
    {
      "cell_type": "code",
      "metadata": {
        "id": "rXLqma59sKUb",
        "colab_type": "code",
        "colab": {
          "base_uri": "https://localhost:8080/",
          "height": 669
        },
        "outputId": "7aba4966-cd00-4066-9257-d3f2dd930352"
      },
      "source": [
        "#ADD CODE HERE FOR ACTIVITY # \n",
        "\n",
        "results"
      ],
      "execution_count": 47,
      "outputs": [
        {
          "output_type": "execute_result",
          "data": {
            "text/html": [
              "<div>\n",
              "<style scoped>\n",
              "    .dataframe tbody tr th:only-of-type {\n",
              "        vertical-align: middle;\n",
              "    }\n",
              "\n",
              "    .dataframe tbody tr th {\n",
              "        vertical-align: top;\n",
              "    }\n",
              "\n",
              "    .dataframe thead th {\n",
              "        text-align: right;\n",
              "    }\n",
              "</style>\n",
              "<table border=\"1\" class=\"dataframe\">\n",
              "  <thead>\n",
              "    <tr style=\"text-align: right;\">\n",
              "      <th></th>\n",
              "      <th>model</th>\n",
              "      <th>features</th>\n",
              "      <th>accuracy_train</th>\n",
              "      <th>accuracy_test</th>\n",
              "      <th>precision_test</th>\n",
              "      <th>recall_test</th>\n",
              "    </tr>\n",
              "  </thead>\n",
              "  <tbody>\n",
              "    <tr>\n",
              "      <th>0</th>\n",
              "      <td>Logistic Regression</td>\n",
              "      <td>PCA</td>\n",
              "      <td>0.970000</td>\n",
              "      <td>0.969167</td>\n",
              "      <td>0.990426</td>\n",
              "      <td>0.947544</td>\n",
              "    </tr>\n",
              "    <tr>\n",
              "      <th>1</th>\n",
              "      <td>Logistic Regression</td>\n",
              "      <td>MF</td>\n",
              "      <td>0.973839</td>\n",
              "      <td>0.975208</td>\n",
              "      <td>0.991814</td>\n",
              "      <td>0.958368</td>\n",
              "    </tr>\n",
              "    <tr>\n",
              "      <th>2</th>\n",
              "      <td>Logistic Regression</td>\n",
              "      <td>Autoencoder</td>\n",
              "      <td>0.521071</td>\n",
              "      <td>0.516250</td>\n",
              "      <td>0.559701</td>\n",
              "      <td>0.156120</td>\n",
              "    </tr>\n",
              "    <tr>\n",
              "      <th>3</th>\n",
              "      <td>Logistic Regression</td>\n",
              "      <td>MyPCa</td>\n",
              "      <td>0.970000</td>\n",
              "      <td>0.969167</td>\n",
              "      <td>0.990426</td>\n",
              "      <td>0.947544</td>\n",
              "    </tr>\n",
              "    <tr>\n",
              "      <th>4</th>\n",
              "      <td>Logistic Regression</td>\n",
              "      <td>MyMF</td>\n",
              "      <td>0.973839</td>\n",
              "      <td>0.975208</td>\n",
              "      <td>0.991814</td>\n",
              "      <td>0.958368</td>\n",
              "    </tr>\n",
              "    <tr>\n",
              "      <th>5</th>\n",
              "      <td>Random Forest</td>\n",
              "      <td>PCA</td>\n",
              "      <td>0.999732</td>\n",
              "      <td>0.956042</td>\n",
              "      <td>0.974037</td>\n",
              "      <td>0.937136</td>\n",
              "    </tr>\n",
              "    <tr>\n",
              "      <th>6</th>\n",
              "      <td>Random Forest</td>\n",
              "      <td>MF</td>\n",
              "      <td>0.999643</td>\n",
              "      <td>0.961250</td>\n",
              "      <td>0.975945</td>\n",
              "      <td>0.945878</td>\n",
              "    </tr>\n",
              "    <tr>\n",
              "      <th>7</th>\n",
              "      <td>Random Forest</td>\n",
              "      <td>Autoencoder</td>\n",
              "      <td>0.665089</td>\n",
              "      <td>0.543542</td>\n",
              "      <td>0.545533</td>\n",
              "      <td>0.526228</td>\n",
              "    </tr>\n",
              "    <tr>\n",
              "      <th>8</th>\n",
              "      <td>Random Forest</td>\n",
              "      <td>MyPCa</td>\n",
              "      <td>0.999732</td>\n",
              "      <td>0.956042</td>\n",
              "      <td>0.974037</td>\n",
              "      <td>0.937136</td>\n",
              "    </tr>\n",
              "    <tr>\n",
              "      <th>9</th>\n",
              "      <td>Random Forest</td>\n",
              "      <td>MyMF</td>\n",
              "      <td>0.999643</td>\n",
              "      <td>0.961250</td>\n",
              "      <td>0.975945</td>\n",
              "      <td>0.945878</td>\n",
              "    </tr>\n",
              "    <tr>\n",
              "      <th>10</th>\n",
              "      <td>KNN</td>\n",
              "      <td>PCA</td>\n",
              "      <td>0.962500</td>\n",
              "      <td>0.946458</td>\n",
              "      <td>0.997680</td>\n",
              "      <td>0.895087</td>\n",
              "    </tr>\n",
              "    <tr>\n",
              "      <th>11</th>\n",
              "      <td>KNN</td>\n",
              "      <td>MF</td>\n",
              "      <td>0.970893</td>\n",
              "      <td>0.958125</td>\n",
              "      <td>0.996840</td>\n",
              "      <td>0.919234</td>\n",
              "    </tr>\n",
              "    <tr>\n",
              "      <th>12</th>\n",
              "      <td>KNN</td>\n",
              "      <td>Autoencoder</td>\n",
              "      <td>0.689196</td>\n",
              "      <td>0.534375</td>\n",
              "      <td>0.532579</td>\n",
              "      <td>0.568276</td>\n",
              "    </tr>\n",
              "    <tr>\n",
              "      <th>13</th>\n",
              "      <td>KNN</td>\n",
              "      <td>MyPCa</td>\n",
              "      <td>0.962500</td>\n",
              "      <td>0.946458</td>\n",
              "      <td>0.997680</td>\n",
              "      <td>0.895087</td>\n",
              "    </tr>\n",
              "    <tr>\n",
              "      <th>14</th>\n",
              "      <td>KNN</td>\n",
              "      <td>MyMF</td>\n",
              "      <td>0.970893</td>\n",
              "      <td>0.958125</td>\n",
              "      <td>0.996840</td>\n",
              "      <td>0.919234</td>\n",
              "    </tr>\n",
              "    <tr>\n",
              "      <th>15</th>\n",
              "      <td>SVM</td>\n",
              "      <td>PCA</td>\n",
              "      <td>0.967321</td>\n",
              "      <td>0.964375</td>\n",
              "      <td>0.992494</td>\n",
              "      <td>0.935887</td>\n",
              "    </tr>\n",
              "    <tr>\n",
              "      <th>16</th>\n",
              "      <td>SVM</td>\n",
              "      <td>MF</td>\n",
              "      <td>0.970804</td>\n",
              "      <td>0.971042</td>\n",
              "      <td>0.990889</td>\n",
              "      <td>0.950874</td>\n",
              "    </tr>\n",
              "    <tr>\n",
              "      <th>17</th>\n",
              "      <td>SVM</td>\n",
              "      <td>Autoencoder</td>\n",
              "      <td>0.518304</td>\n",
              "      <td>0.518750</td>\n",
              "      <td>0.567449</td>\n",
              "      <td>0.161116</td>\n",
              "    </tr>\n",
              "    <tr>\n",
              "      <th>18</th>\n",
              "      <td>SVM</td>\n",
              "      <td>MyPCa</td>\n",
              "      <td>0.967321</td>\n",
              "      <td>0.964375</td>\n",
              "      <td>0.992494</td>\n",
              "      <td>0.935887</td>\n",
              "    </tr>\n",
              "    <tr>\n",
              "      <th>19</th>\n",
              "      <td>SVM</td>\n",
              "      <td>MyMF</td>\n",
              "      <td>0.970804</td>\n",
              "      <td>0.971042</td>\n",
              "      <td>0.990889</td>\n",
              "      <td>0.950874</td>\n",
              "    </tr>\n",
              "    <tr>\n",
              "      <th>20</th>\n",
              "      <td>CNN</td>\n",
              "      <td>embeddings</td>\n",
              "      <td>0.984464</td>\n",
              "      <td>0.976250</td>\n",
              "      <td>0.996494</td>\n",
              "      <td>0.955462</td>\n",
              "    </tr>\n",
              "  </tbody>\n",
              "</table>\n",
              "</div>"
            ],
            "text/plain": [
              "                  model     features  ...  precision_test  recall_test\n",
              "0   Logistic Regression          PCA  ...        0.990426     0.947544\n",
              "1   Logistic Regression           MF  ...        0.991814     0.958368\n",
              "2   Logistic Regression  Autoencoder  ...        0.559701     0.156120\n",
              "3   Logistic Regression        MyPCa  ...        0.990426     0.947544\n",
              "4   Logistic Regression         MyMF  ...        0.991814     0.958368\n",
              "5         Random Forest          PCA  ...        0.974037     0.937136\n",
              "6         Random Forest           MF  ...        0.975945     0.945878\n",
              "7         Random Forest  Autoencoder  ...        0.545533     0.526228\n",
              "8         Random Forest        MyPCa  ...        0.974037     0.937136\n",
              "9         Random Forest         MyMF  ...        0.975945     0.945878\n",
              "10                  KNN          PCA  ...        0.997680     0.895087\n",
              "11                  KNN           MF  ...        0.996840     0.919234\n",
              "12                  KNN  Autoencoder  ...        0.532579     0.568276\n",
              "13                  KNN        MyPCa  ...        0.997680     0.895087\n",
              "14                  KNN         MyMF  ...        0.996840     0.919234\n",
              "15                  SVM          PCA  ...        0.992494     0.935887\n",
              "16                  SVM           MF  ...        0.990889     0.950874\n",
              "17                  SVM  Autoencoder  ...        0.567449     0.161116\n",
              "18                  SVM        MyPCa  ...        0.992494     0.935887\n",
              "19                  SVM         MyMF  ...        0.990889     0.950874\n",
              "20                  CNN   embeddings  ...        0.996494     0.955462\n",
              "\n",
              "[21 rows x 6 columns]"
            ]
          },
          "metadata": {
            "tags": []
          },
          "execution_count": 47
        }
      ]
    }
  ]
}